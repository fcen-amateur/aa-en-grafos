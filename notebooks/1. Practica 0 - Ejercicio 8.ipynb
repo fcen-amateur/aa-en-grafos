{
  "nbformat": 4,
  "nbformat_minor": 0,
  "metadata": {
    "kernelspec": {
      "display_name": "Python 3.8.2 64-bit",
      "language": "python",
      "name": "python38264bit4ef2f22694064c32ad72f88660ab886c"
    },
    "language_info": {
      "codemirror_mode": {
        "name": "ipython",
        "version": 3
      },
      "file_extension": ".py",
      "mimetype": "text/x-python",
      "name": "python",
      "nbconvert_exporter": "python",
      "pygments_lexer": "ipython3",
      "version": "3.8.5"
    },
    "colab": {
      "name": "Practica 0 - Ejercicio 8.ipynb",
      "provenance": [],
      "include_colab_link": true
    }
  },
  "cells": [
    {
      "cell_type": "markdown",
      "metadata": {
        "id": "view-in-github",
        "colab_type": "text"
      },
      "source": [
        "<a href=\"https://colab.research.google.com/github/fcen-amateur/aa-en-grafos/blob/main/notebooks/1.%20Practica%200%20-%20Ejercicio%208.ipynb\" target=\"_parent\"><img src=\"https://colab.research.google.com/assets/colab-badge.svg\" alt=\"Open In Colab\"/></a>"
      ]
    },
    {
      "cell_type": "markdown",
      "metadata": {
        "id": "34JrBmJYogMF"
      },
      "source": [
        "## Practica 0 - Ejercicio 8"
      ]
    },
    {
      "cell_type": "code",
      "metadata": {
        "id": "SeXIlqxFogML"
      },
      "source": [
        "import numpy as np\n",
        "import matplotlib.pyplot as plt\n",
        "from numpy.linalg import matrix_power"
      ],
      "execution_count": null,
      "outputs": []
    },
    {
      "cell_type": "code",
      "metadata": {
        "id": "2zGMPhfYo-rf"
      },
      "source": [
        "I = np.eye(4)  # Matriz identidad\n",
        "print(I)\n",
        "plt.imshow(I, cmap=\"binary\", vmin=0)"
      ],
      "execution_count": null,
      "outputs": []
    },
    {
      "cell_type": "code",
      "metadata": {
        "id": "DUpHGPKeogMj"
      },
      "source": [
        "def A(n):\n",
        "    \"\"\"Matriz de adyacencia en el n-ciclo.\"\"\"\n",
        "    A = np.zeros((n, n))\n",
        "    for i in range(n):\n",
        "        A[i, (i + 1) % n] = A[i, (i - 1) % n] = 1\n",
        "    return A\n",
        "    "
      ],
      "execution_count": null,
      "outputs": []
    },
    {
      "cell_type": "code",
      "metadata": {
        "id": "IqHaNy22posB"
      },
      "source": [
        "plt.imshow(A(8), cmap=\"binary\", vmin=0)"
      ],
      "execution_count": null,
      "outputs": []
    },
    {
      "cell_type": "code",
      "metadata": {
        "id": "tNyRJugzsg1T"
      },
      "source": [
        "# Potencia de Matrices\n",
        "matrix_power(A(5), 2)  # equivalente a A^2 = A * A"
      ],
      "execution_count": null,
      "outputs": []
    },
    {
      "cell_type": "code",
      "metadata": {
        "id": "o4NyD7BqogMq"
      },
      "source": [
        "n = 9  # Cantidad de nodos del n-ciclo\n",
        "P = A(n)\n",
        "steps = 12  # Cantidad de pasos a plotear\n",
        "\n",
        "ncols = 6\n",
        "nrows = int(np.ceil(steps / ncols))\n",
        "fig, axs = plt.subplots(nrows, ncols)\n",
        "fig.set_figheight(4 * nrows)\n",
        "fig.set_figwidth(4 * ncols)\n",
        "\n",
        "done = False\n",
        "for i in range(steps):\n",
        "    if nrows > 1:\n",
        "        ax = axs[i // ncols, i % ncols]\n",
        "    else:\n",
        "        ax = axs[i]\n",
        "    ax.imshow(matrix_power(P, i + 1) > 0, cmap=\"binary\", vmin=0)\n",
        "    ax.set_title(f\"{i + 1} step{'s' if i > 0 else ''}\")\n",
        "    if np.all(matrix_power(P, i) > 0) and not done:\n",
        "        print(f\"Done at {i}!\")\n",
        "        done = True"
      ],
      "execution_count": null,
      "outputs": []
    }
  ]
}