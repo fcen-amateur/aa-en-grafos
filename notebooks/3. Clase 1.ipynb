{
 "cells": [
  {
   "cell_type": "markdown",
   "metadata": {
    "slideshow": {
     "slide_type": "slide"
    }
   },
   "source": [
    "  # Aprendizaje Automático en Grafos\n",
    "\n",
    "## Unidad 1 - Herramientas para el manejo computacional\n",
    "\n",
    "Martín Elías Costa, Gonzalo Barrera Borla\n",
    "\n",
    "Maestría en Data Mining, FCEN/FIUBA\n",
    "\n",
    "Mayo 2021"
   ]
  },
  {
   "cell_type": "markdown",
   "metadata": {
    "slideshow": {
     "slide_type": "subslide"
    }
   },
   "source": [
    "# i. networkx\n",
    "\n",
    "# ii. igraph\n",
    "\n",
    "# iii. interoperabilidad\n",
    "\n",
    "# iv. grafos geográficos"
   ]
  },
  {
   "cell_type": "markdown",
   "metadata": {
    "slideshow": {
     "slide_type": "slide"
    }
   },
   "source": [
    "# 0. Setup"
   ]
  },
  {
   "cell_type": "code",
   "execution_count": null,
   "metadata": {
    "slideshow": {
     "slide_type": "fragment"
    }
   },
   "outputs": [],
   "source": [
    "import pandas as pd\n",
    "import networkx as nx\n",
    "import igraph as ig\n",
    "import matplotlib as mpl\n",
    "import matplotlib.pyplot as plt"
   ]
  },
  {
   "cell_type": "code",
   "execution_count": null,
   "metadata": {
    "slideshow": {
     "slide_type": "fragment"
    }
   },
   "outputs": [],
   "source": [
    "# Fijo los generadores de números al azar para futura reproducibilidad\n",
    "import random\n",
    "random.seed(123)\n",
    "import numpy\n",
    "numpy.random.seed(456)"
   ]
  },
  {
   "cell_type": "markdown",
   "metadata": {
    "slideshow": {
     "slide_type": "slide"
    }
   },
   "source": [
    "# i. Network X\n",
    "\n",
    " `networkx` (abreviado `nx`, _/énex/_ )\n",
    "\n",
    "Según su [sitio oficial](https://networkx.org/) (en inglés):\n",
    "\n",
    "> \"NetworkX es un paquete de Python para la creación, manipulación y estudio de la estructura, dinámica y funcionamiento de redes complejas.\"\n",
    "\n",
    "- Está escrita íntegramente en Python (no es un una interfaz a C u otro lenguaje)\n",
    "- Provee visualizaciones sencillas y **compatibles con matplotlib**\n",
    "\n",
    "La [documentación](https://networkx.org/documentation/stable/) es _muy_ completa, lean al menos el [Tutorial](https://networkx.org/documentation/stable/tutorial.html) y paséense por la [galería](https://networkx.org/documentation/stable/auto_examples/index.html) de visualizaciones."
   ]
  },
  {
   "cell_type": "markdown",
   "metadata": {
    "slideshow": {
     "slide_type": "notes"
    }
   },
   "source": [
    "Hay cantidad de métodos para crear un grafo en NetworkX (`nx` de aquí en más). En general, será obligatorio pasar una **lista de aristas**, y opcionalmente una lista de vértices. A ambos, aristas y vértices, se les puede agregar atributos:"
   ]
  },
  {
   "cell_type": "code",
   "execution_count": null,
   "metadata": {
    "slideshow": {
     "slide_type": "fragment"
    }
   },
   "outputs": [],
   "source": [
    "g = nx.Graph([(0, 1), (1, 2), (2, 0)])\n",
    "g.nodes[0][\"peso\"] = 2\n",
    "g.edges[(0, 1)][\"color\"] = \"red\""
   ]
  },
  {
   "cell_type": "markdown",
   "metadata": {
    "slideshow": {
     "slide_type": "subslide"
    }
   },
   "source": [
    "`nx.draw_networkx(grafo, ...)` es la forma más sencilla de graficar."
   ]
  },
  {
   "cell_type": "code",
   "execution_count": null,
   "metadata": {
    "slideshow": {
     "slide_type": "fragment"
    }
   },
   "outputs": [],
   "source": [
    "nx.draw_networkx(\n",
    "    g,\n",
    "    edge_color=[g.edges[e].get(\"color\", \"green\") for e in g.edges],\n",
    "    node_color=\"pink\",\n",
    "    node_size=[500 * g.nodes[n].get(\"peso\", 1) for n in g.nodes],\n",
    ")"
   ]
  },
  {
   "cell_type": "markdown",
   "metadata": {
    "slideshow": {
     "slide_type": "subslide"
    }
   },
   "source": [
    "`nx` usa \"vistas\" para exponer las propiedades de nodos, aristas y el grafo `g`. `g.nodes()` y `g.edges()` son las dos más importantes; otras como `g.degree()` (grados de cada nodo) y `g.adj` (**adj**acency, un diccionario de vecinos) son autoexplicativas:"
   ]
  },
  {
   "cell_type": "code",
   "execution_count": null,
   "metadata": {
    "slideshow": {
     "slide_type": "fragment"
    }
   },
   "outputs": [],
   "source": [
    "g.nodes()"
   ]
  },
  {
   "cell_type": "code",
   "execution_count": null,
   "metadata": {
    "slideshow": {
     "slide_type": "fragment"
    }
   },
   "outputs": [],
   "source": [
    "g.edges()"
   ]
  },
  {
   "cell_type": "code",
   "execution_count": null,
   "metadata": {
    "slideshow": {
     "slide_type": "fragment"
    }
   },
   "outputs": [],
   "source": [
    "g.degree()"
   ]
  },
  {
   "cell_type": "code",
   "execution_count": null,
   "metadata": {
    "slideshow": {
     "slide_type": "fragment"
    }
   },
   "outputs": [],
   "source": [
    "g.adj"
   ]
  },
  {
   "cell_type": "code",
   "execution_count": null,
   "metadata": {},
   "outputs": [],
   "source": [
    "list(g.neighbors(1))"
   ]
  },
  {
   "cell_type": "markdown",
   "metadata": {
    "slideshow": {
     "slide_type": "subslide"
    }
   },
   "source": [
    "Si queremos crear un grafo dirigido, usaremos `nx.DiGraph` (**di**rected **graph**) en lugar de `nx.Graph`:"
   ]
  },
  {
   "cell_type": "code",
   "execution_count": null,
   "metadata": {
    "scrolled": true,
    "slideshow": {
     "slide_type": "fragment"
    }
   },
   "outputs": [],
   "source": [
    "g = nx.DiGraph([(0, 1), (1, 2), (2, 0)])\n",
    "nx.draw_networkx(g)"
   ]
  },
  {
   "cell_type": "markdown",
   "metadata": {
    "slideshow": {
     "slide_type": "subslide"
    }
   },
   "source": [
    "Ahora que las aristas están dirigidas, existen algunos métodos extra que diferencian las aristas (y el grado) de salida y entrada:"
   ]
  },
  {
   "cell_type": "code",
   "execution_count": null,
   "metadata": {
    "slideshow": {
     "slide_type": "fragment"
    }
   },
   "outputs": [],
   "source": [
    "g.in_edges(1), g.out_edges(1)"
   ]
  },
  {
   "cell_type": "code",
   "execution_count": null,
   "metadata": {
    "slideshow": {
     "slide_type": "fragment"
    }
   },
   "outputs": [],
   "source": [
    "g.degree(), g.in_degree(), g.out_degree()"
   ]
  },
  {
   "cell_type": "code",
   "execution_count": null,
   "metadata": {
    "slideshow": {
     "slide_type": "fragment"
    }
   },
   "outputs": [],
   "source": [
    "g.pred, g.succ  # Nodos predecesores y sucesores"
   ]
  },
  {
   "cell_type": "code",
   "execution_count": null,
   "metadata": {
    "slideshow": {
     "slide_type": "fragment"
    }
   },
   "outputs": [],
   "source": [
    "g.pred[1], g.succ[1]"
   ]
  },
  {
   "cell_type": "markdown",
   "metadata": {
    "slideshow": {
     "slide_type": "subslide"
    }
   },
   "source": [
    "También es posible crear grafos:\n",
    "- con operaciones sobre otros (como `nx.cartesian_product(A, B)`),\n",
    "- con constructores para grafos estándares (`nx.path_graph`) y famosos (`nx.erdos_renyi`)\n",
    "- a partir de estructuras de datos externas\n",
    "  - tablas (\"DataFrames\") de aristas (y otro de nodos),\n",
    "  - matrices de adyacencia,\n",
    "  - et cetera."
   ]
  },
  {
   "cell_type": "code",
   "execution_count": null,
   "metadata": {
    "slideshow": {
     "slide_type": "fragment"
    }
   },
   "outputs": [],
   "source": [
    "ciclo = nx.cycle_graph\n",
    "grafos = [\n",
    "    \"nx.cartesian_product(ciclo(2), ciclo(3))\",\n",
    "    \"nx.complete_graph(6)\",\n",
    "    \"nx.barbell_graph(3, 3)\",\n",
    "    \"ciclo(6)\",\n",
    "    \"nx.path_graph(6)\",\n",
    "]"
   ]
  },
  {
   "cell_type": "code",
   "execution_count": null,
   "metadata": {
    "slideshow": {
     "slide_type": "slide"
    }
   },
   "outputs": [],
   "source": [
    "size = 5\n",
    "n = len(grafos)\n",
    "fig, axs = plt.subplots(1, n, figsize=(n * size, size))\n",
    "for i in range(n):\n",
    "    nombre = grafos[i]\n",
    "    grafo = eval(nombre)\n",
    "    ax = axs[i]\n",
    "    nx.draw_networkx(grafo, ax=ax)\n",
    "    ax.title.set_text(nombre)"
   ]
  },
  {
   "cell_type": "markdown",
   "metadata": {
    "slideshow": {
     "slide_type": "slide"
    }
   },
   "source": [
    "## Visualización en `networkx`\n",
    "\n",
    "NetworkX explícitamente recomienda no usar sus \"precarias\" herramientas de visualización, pero tienen la ventaja de \"llevarse bien\" con `matplotlib` ([sitio web](https://matplotlib.org/)), que es _la_ librería de facto para graficar datos en python.\n",
    "\n",
    "`nx.draw_networkx` toma tres argumentos:\n",
    "- el grafo a dibujar `g` (el único obligatorio),\n",
    "- la posición de los nodos `pos` y\n",
    "- _keyword arguments_ varios para controlar el estilo."
   ]
  },
  {
   "cell_type": "markdown",
   "metadata": {
    "slideshow": {
     "slide_type": "fragment"
    }
   },
   "source": [
    "NetworkX explícitamente recomienda no usar sus \"precarias\" herramientas de visualización, pero tienen la ventaja de \"llevarse bien\" con `matplotlib` ([sitio web](https://matplotlib.org/)), que es _la_ librería de facto para graficar datos en python."
   ]
  },
  {
   "cell_type": "markdown",
   "metadata": {
    "slideshow": {
     "slide_type": "fragment"
    }
   },
   "source": [
    "`nx.draw_networkx` toma tres argumentos:\n",
    "- el grafo a dibujar `g` (el único obligatorio),\n",
    "- la posición de los nodos `pos` y\n",
    "- _keyword arguments_ varios para controlar el estilo."
   ]
  },
  {
   "cell_type": "code",
   "execution_count": null,
   "metadata": {
    "slideshow": {
     "slide_type": "slide"
    }
   },
   "outputs": [],
   "source": [
    "nrows, ncols = 2, 10\n",
    "size = 3\n",
    "kwargs={\"with_labels\": True, \"font_color\": \"white\"}\n",
    "fig, axs = plt.subplots(nrows, ncols, figsize=(ncols * size, nrows * size))\n",
    "for i in range(nrows):\n",
    "    for j in range(ncols):\n",
    "        ix = i * ncols + j + 1\n",
    "        ax = axs[i, j]\n",
    "        g = ciclo(ix)\n",
    "        nx.draw_networkx(g, ax=ax, **kwargs)\n",
    "        ax.title.set_text(f\"{ix} vértice{'s' if ix > 1 else ''}\")"
   ]
  },
  {
   "cell_type": "markdown",
   "metadata": {
    "slideshow": {
     "slide_type": "fragment"
    }
   },
   "source": [
    "¡Esos ciclos se ven bastante irregulares!"
   ]
  },
  {
   "cell_type": "markdown",
   "metadata": {
    "slideshow": {
     "slide_type": "subslide"
    }
   },
   "source": [
    "## Layouts\n",
    "\n",
    "Típicamente, vamos a querer dibujar un ciclo como un polígono regular, con sus vértices inscriptos en una circunferencia.\n",
    "Para ello, vamos a necesitar un _layout_ que controle estrictamente la posición de los nodos.\n",
    "\n",
    "En el [Anexo 1](notebooks/2. Anexo Clase 1.ipynb), verán cómo generar un layout \"a mano\", ahora veamos cómo funcionan los ya incorporados a `nx`."
   ]
  },
  {
   "cell_type": "markdown",
   "metadata": {
    "slideshow": {
     "slide_type": "subslide"
    }
   },
   "source": [
    "```\n",
    "Signature: nx.draw_networkx(G, pos=None, arrows=True, with_labels=True, **kwds)\n",
    "Docstring:\n",
    "Draw the graph G using Matplotlib.\n",
    "\n",
    "Draw the graph with Matplotlib with options for node positions,\n",
    "labeling, titles, and many other drawing features.\n",
    "See draw() for simple drawing without labels or axes.\n",
    "\n",
    "Parameters\n",
    "----------\n",
    "G : graph\n",
    "   A networkx graph\n",
    "\n",
    "pos : dictionary, optional\n",
    "   A dictionary with nodes as keys and positions as values.\n",
    "   If not specified a spring layout positioning will be computed.\n",
    "   See :py:mod:`networkx.drawing.layout` for functions that\n",
    "   compute node positions.\n",
    "```"
   ]
  },
  {
   "cell_type": "code",
   "execution_count": null,
   "metadata": {
    "slideshow": {
     "slide_type": "subslide"
    }
   },
   "outputs": [],
   "source": [
    "nx.circular_layout(ciclo(4))"
   ]
  },
  {
   "cell_type": "code",
   "execution_count": null,
   "metadata": {
    "scrolled": true,
    "slideshow": {
     "slide_type": "fragment"
    }
   },
   "outputs": [],
   "source": [
    "g = ciclo(15)\n",
    "plt.figure(figsize=(12, 6))\n",
    "plt.subplot(121)\n",
    "nx.draw_networkx(g, pos=nx.circular_layout(g), **kwargs)\n",
    "plt.title(\"nx.draw_networkx con nx.circular_layout\")\n",
    "plt.box(False)\n",
    "plt.subplot(122)\n",
    "nx.draw_circular(g, **kwargs)\n",
    "plt.title(\"nx.draw_circular\")\n",
    "plt.show()"
   ]
  },
  {
   "cell_type": "code",
   "execution_count": null,
   "metadata": {
    "slideshow": {
     "slide_type": "subslide"
    }
   },
   "outputs": [],
   "source": [
    "fig, axs = plt.subplots(nrows, ncols, figsize=(ncols * size, nrows * size))\n",
    "for i in range(nrows):\n",
    "    for j in range(ncols):\n",
    "        ix = i * ncols + j + 1\n",
    "        ax = axs[i, j]\n",
    "        g = ciclo(ix)\n",
    "        nx.draw_circular(g, ax=ax, **kwargs)\n",
    "        ax.title.set_text(f\"{ix} vértice{'s' if ix > 1 else ''}\")"
   ]
  },
  {
   "cell_type": "markdown",
   "metadata": {
    "slideshow": {
     "slide_type": "slide"
    }
   },
   "source": [
    "## Análisis\n",
    "\n",
    "`nx` provee muchísimas funciones _sobre_ grafos, para estudiar sus propiedades. Consideremos por ejemplo el modelo de [Erdos-Renyi](https://en.wikipedia.org/wiki/Erd%C5%91s%E2%80%93R%C3%A9nyi_model) y su constructor en `nx`:\n",
    "\n",
    "### nx.erdos_renyi_graph\n",
    "\n",
    "`nx.erdos_renyi_graph(n, p, seed=None, directed=False)`\n",
    "\n",
    "Returns a $G_{n,p}$ random graph, also known as an Erdős-Rényi graph or a binomial graph.\n",
    "\n",
    "The $G_{n,p}$ model chooses each of the possible edges with probability $p$.\n",
    "\n",
    "**Ejercicio**: ¿Qué distribución tiene el número de aristas $E$ en un grafo de Erdos-Renyi $G_{n,p}$?"
   ]
  },
  {
   "cell_type": "code",
   "execution_count": null,
   "metadata": {
    "slideshow": {
     "slide_type": "fragment"
    }
   },
   "outputs": [],
   "source": [
    "ns = [3, 9, 27]\n",
    "ps = [0.05, 0.1, 0.25, 0.5, 0.75, 0.9, 0.95]\n",
    "grafos = {\n",
    "    (n, p): nx.erdos_renyi_graph(n, p)\n",
    "    for n in ns for p in ps\n",
    "}"
   ]
  },
  {
   "cell_type": "code",
   "execution_count": null,
   "metadata": {
    "slideshow": {
     "slide_type": "subslide"
    }
   },
   "outputs": [],
   "source": [
    "nrows, ncols = len(ns), len(ps)\n",
    "size = 4\n",
    "fig, axs = plt.subplots(nrows, ncols, figsize=(ncols * size, nrows * size))\n",
    "for i, n in enumerate(ns):\n",
    "    for j, p in enumerate(ps):\n",
    "        ax = axs[i, j]\n",
    "        g = grafos[(n, p)]\n",
    "        nx.draw_networkx(g, ax=ax, node_size=70, width=0.4, with_labels=False)\n",
    "        ax.title.set_text(f\"n = {n}; p = {p}\")"
   ]
  },
  {
   "cell_type": "markdown",
   "metadata": {
    "slideshow": {
     "slide_type": "subslide"
    }
   },
   "source": [
    "¿Cómo calcular la _distribución empírica_ del grado de los nodos de un grafo `g`?"
   ]
  },
  {
   "cell_type": "code",
   "execution_count": null,
   "metadata": {
    "slideshow": {
     "slide_type": "fragment"
    }
   },
   "outputs": [],
   "source": [
    "pd.Series(dict(grafos[(27, 0.1)].degree())).value_counts()"
   ]
  },
  {
   "cell_type": "markdown",
   "metadata": {
    "slideshow": {
     "slide_type": "fragment"
    }
   },
   "source": [
    "¿Funciona? Sí. Recién entonces la generalizo:"
   ]
  },
  {
   "cell_type": "code",
   "execution_count": null,
   "metadata": {
    "slideshow": {
     "slide_type": "fragment"
    }
   },
   "outputs": [],
   "source": [
    "def distribucion_grado(g):\n",
    "    grados = pd.Series(dict(g.degree()))\n",
    "    return grados.value_counts()"
   ]
  },
  {
   "cell_type": "markdown",
   "metadata": {
    "slideshow": {
     "slide_type": "fragment"
    }
   },
   "source": [
    "**Ejercicio**: compare el resultado de `distribucion_grado(g)` con `pd.Series(nx.degree_histogram(g))`. ¿En qué difieren? ¿En qué coinciden?"
   ]
  },
  {
   "cell_type": "code",
   "execution_count": null,
   "metadata": {
    "slideshow": {
     "slide_type": "subslide"
    }
   },
   "outputs": [],
   "source": [
    "ncols = len(ps)\n",
    "size = 4\n",
    "fig, axs = plt.subplots(1, ncols, figsize=(ncols * size, size))\n",
    "for i, p in enumerate(ps):\n",
    "    ax = axs[i]\n",
    "    g = grafos[(27, p)]\n",
    "    dist = distribucion_grado(g)\n",
    "    ax.bar(dist.index, dist.values)\n",
    "    ax.set_xticks([1, 6, 11, 16, 21, 26])\n",
    "    ax.tick_params('x', labelrotation=45, size=9)\n",
    "    ax.set_xlim(1, 26)\n",
    "    ax.title.set_text(f\"p = {p}\")\n",
    "plt.suptitle(\n",
    "    \"Distribución (empírica) del grado de los nodos para el modelo Erdos-Renyi con n=27\",\n",
    "    size=20,\n",
    "    y=1.1,\n",
    ")\n",
    "plt.show()"
   ]
  },
  {
   "cell_type": "code",
   "execution_count": null,
   "metadata": {
    "slideshow": {
     "slide_type": "subslide"
    }
   },
   "outputs": [],
   "source": [
    "g = grafos[(9, 0.25)]\n",
    "nx.draw_networkx(g)"
   ]
  },
  {
   "cell_type": "code",
   "execution_count": null,
   "metadata": {
    "slideshow": {
     "slide_type": "fragment"
    }
   },
   "outputs": [],
   "source": [
    "list(nx.connected_components(g))"
   ]
  },
  {
   "cell_type": "code",
   "execution_count": null,
   "metadata": {
    "slideshow": {
     "slide_type": "fragment"
    }
   },
   "outputs": [],
   "source": [
    "nx.connected.is_connected(g)"
   ]
  },
  {
   "cell_type": "code",
   "execution_count": null,
   "metadata": {
    "slideshow": {
     "slide_type": "fragment"
    }
   },
   "outputs": [],
   "source": [
    "nx.shortest_path == nx.shortest_paths.shortest_path"
   ]
  },
  {
   "cell_type": "code",
   "execution_count": null,
   "metadata": {
    "slideshow": {
     "slide_type": "fragment"
    }
   },
   "outputs": [],
   "source": [
    "try:\n",
    "    print(nx.shortest_path(g, 4, 8))\n",
    "except Exception as e:\n",
    "    print(repr(e))"
   ]
  },
  {
   "cell_type": "markdown",
   "metadata": {
    "slideshow": {
     "slide_type": "notes"
    }
   },
   "source": [
    "Probar con otro grafo (conectado/no-conectado) y camino (que no ande/si ande)"
   ]
  },
  {
   "cell_type": "markdown",
   "metadata": {
    "slideshow": {
     "slide_type": "slide"
    }
   },
   "source": [
    "#  ii. igraph\n",
    "\n",
    "igraph (abreviado `ig`, /áigraf/)\n",
    "\n",
    "Según el [sitio oficial](https://igraph.org/) (en - adivinen - inglés):\n",
    "> igraph es una colección de herramientas para análisis de redes con énfasis en **eficiencia, portabilidad** y facilidad de uso. igraph es **código abierto** y gratuito. igraph puede ser programado en R, Python, Mathematica y C/C++\n",
    "\n",
    "- Está escrita en C, así que es _mucho_ más rápida que NetworkX para unas cuantas tareas, y\n",
    "- tiene su propio sistema de visualizaciones, basado en [Cairo](https://www.cairographics.org/).\n",
    "\n",
    "En particular, vamos a usar los _bindings_ de [python](https://igraph.org/python), pero los interesados pueden explorarla en [R](https://igraph.org/r).\n",
    "De mínima, como siempre, paséense por la [documentación](https://igraph.org/python/) de `python-igraph`, y lean detalladamente el [tutorial](https://igraph.org/python/doc/tutorial/tutorial.html),"
   ]
  },
  {
   "cell_type": "markdown",
   "metadata": {
    "slideshow": {
     "slide_type": "slide"
    }
   },
   "source": [
    "Una cosa más: NetworkX e igraph están en \"paridad funcional\" para tareas estándar, pero puede que algunos generadores o algoritmos muy especializados/novedosos sólo se encuentren en una de ellas. Leyendo las novedades más recientes en en registro de cambios (`CHANGELOG`) de cada proyecto, se descubren métodos de lo más curiosos.\n",
    "\n",
    "- [networkx](https://networkx.org/documentation/stable/news.html) (ver \"Announcements\" de cada versión, como la [última](https://networkx.org/documentation/stable/release/release_2.5.html), 2.5)\n",
    "- [igraph (C)](https://github.com/igraph/igraph/blob/master/CHANGELOG.md) y [python-igraph](https://github.com/igraph/python-igraph/blob/master/CHANGELOG.md) (que suele estar algunas semanas atrás de la librería principal en C)."
   ]
  },
  {
   "cell_type": "markdown",
   "metadata": {
    "slideshow": {
     "slide_type": "subslide"
    }
   },
   "source": [
    "## Performance\n",
    "Vaya aquí un test trivial de _algún_ método:"
   ]
  },
  {
   "cell_type": "code",
   "execution_count": null,
   "metadata": {
    "slideshow": {
     "slide_type": "fragment"
    }
   },
   "outputs": [],
   "source": [
    "%%timeit -n100\n",
    "g = nx.erdos_renyi_graph(100, 0.001)"
   ]
  },
  {
   "cell_type": "code",
   "execution_count": null,
   "metadata": {
    "slideshow": {
     "slide_type": "fragment"
    }
   },
   "outputs": [],
   "source": [
    "%%timeit -n100\n",
    "h = ig.Graph.Erdos_Renyi(100, 0.001)"
   ]
  },
  {
   "cell_type": "markdown",
   "metadata": {
    "slideshow": {
     "slide_type": "fragment"
    }
   },
   "source": [
    "¡`igraph` es $\\frac{632 µs}{19.1 µs} > 20x$ más rápida que `networkx` (para esta tarea)!"
   ]
  },
  {
   "cell_type": "markdown",
   "metadata": {
    "slideshow": {
     "slide_type": "slide"
    }
   },
   "source": [
    "## Creación de grafos"
   ]
  },
  {
   "cell_type": "markdown",
   "metadata": {
    "slideshow": {
     "slide_type": "subslide"
    }
   },
   "source": [
    "### Con métodos propios de la librería:"
   ]
  },
  {
   "cell_type": "code",
   "execution_count": null,
   "metadata": {
    "slideshow": {
     "slide_type": "fragment"
    }
   },
   "outputs": [],
   "source": [
    "# Con un creador de la librería\n",
    "g = ig.Graph.Ring(6)\n",
    "\n",
    "bbox = (300, 300)  # b(ounding) box - tamaño de la \"cajita de pixeles\" donde dibujar\n",
    "ig.plot(g, bbox=bbox)"
   ]
  },
  {
   "cell_type": "markdown",
   "metadata": {
    "slideshow": {
     "slide_type": "slide"
    }
   },
   "source": [
    "### Con una típica lista de aristas"
   ]
  },
  {
   "cell_type": "code",
   "execution_count": null,
   "metadata": {
    "slideshow": {
     "slide_type": "fragment"
    }
   },
   "outputs": [],
   "source": [
    "g = ig.Graph([(0, 1), (1, 2), (2, 0)])"
   ]
  },
  {
   "cell_type": "markdown",
   "metadata": {
    "slideshow": {
     "slide_type": "fragment"
    }
   },
   "source": [
    "Los atributos especiales `g.vs` y `g.es` representan las listas de vértices y aristas"
   ]
  },
  {
   "cell_type": "code",
   "execution_count": null,
   "metadata": {
    "slideshow": {
     "slide_type": "fragment"
    }
   },
   "outputs": [],
   "source": [
    "g.es, [e for e in g.es]"
   ]
  },
  {
   "cell_type": "code",
   "execution_count": null,
   "metadata": {
    "slideshow": {
     "slide_type": "fragment"
    }
   },
   "outputs": [],
   "source": [
    "g.vs, [v for v in g.vs]"
   ]
  },
  {
   "cell_type": "markdown",
   "metadata": {
    "slideshow": {
     "slide_type": "subslide"
    }
   },
   "source": [
    "Vértices y aristas aceptan atributos al igual que en `nx`. Algunos atributos (como `color`) determinan el estilo de la visualización por defecto, que se puede modificar con _keyword arguments_ a `ig.plot`."
   ]
  },
  {
   "cell_type": "code",
   "execution_count": null,
   "metadata": {
    "slideshow": {
     "slide_type": "fragment"
    }
   },
   "outputs": [],
   "source": [
    "g.vs[0][\"peso\"] = 2\n",
    "edge_01 = g.get_edgelist().index((0, 1))\n",
    "g.es[edge_01][\"color\"] = \"red\"\n",
    "\n",
    "visual_style = {\n",
    "    \"vertex_size\": [10 * (peso or 1) for peso in g.vs[\"peso\"]],\n",
    "    \"edge_color\": [(color or \"blue\") for color in g.es[\"color\"]],\n",
    "    \"vertex_color\": \"pink\",\n",
    "    \"vertex_frame_color\": \"pink\",  # Para \"desaparecer\" el contorno negro\n",
    "    \"vertex_label\": [i for i, _ in enumerate(g.vs)],\n",
    "}\n",
    "ig.plot(g, bbox=(260, 260), **visual_style)"
   ]
  },
  {
   "cell_type": "markdown",
   "metadata": {
    "slideshow": {
     "slide_type": "subslide"
    }
   },
   "source": [
    "### Resumen de características\n",
    "Los comandos internos `summary(g)` en R y en `print(g)` en Python producen un resumen útil de los atributos principales de un grafo. En [el tutorial](https://igraph.org/python/doc/tutorial/tutorial.html#creating-a-graph-from-scratch) se menciona lo básico al respecto, y en [la documentación](https://igraph.org/python/doc/api/igraph.summary%200.GraphSummary.html) está el detalle."
   ]
  },
  {
   "cell_type": "code",
   "execution_count": null,
   "metadata": {
    "slideshow": {
     "slide_type": "fragment"
    }
   },
   "outputs": [],
   "source": [
    "print(g)"
   ]
  },
  {
   "cell_type": "code",
   "execution_count": null,
   "metadata": {
    "slideshow": {
     "slide_type": "fragment"
    }
   },
   "outputs": [],
   "source": [
    "print(ig.Graph.Erdos_Renyi(100, 0.001, directed=True))"
   ]
  },
  {
   "cell_type": "markdown",
   "metadata": {
    "slideshow": {
     "slide_type": "subslide"
    }
   },
   "source": [
    "### Construyéndolo a mano"
   ]
  },
  {
   "cell_type": "code",
   "execution_count": null,
   "metadata": {
    "slideshow": {
     "slide_type": "fragment"
    }
   },
   "outputs": [],
   "source": [
    "n = 7\n",
    "g = ig.Graph(directed=True)\n",
    "g.add_vertices(range(n))\n",
    "g.add_edges([(i, (i + 1) % n) for i in range(n)])\n",
    "ig.plot(g, bbox=bbox)"
   ]
  },
  {
   "cell_type": "markdown",
   "metadata": {
    "slideshow": {
     "slide_type": "fragment"
    }
   },
   "source": [
    "**Ejercicio**: ¿Cuál es el comando superfluo en la celda anterior?"
   ]
  },
  {
   "cell_type": "markdown",
   "metadata": {
    "slideshow": {
     "slide_type": "subslide"
    }
   },
   "source": [
    "### Usando generadores"
   ]
  },
  {
   "cell_type": "code",
   "execution_count": null,
   "metadata": {
    "slideshow": {
     "slide_type": "fragment"
    }
   },
   "outputs": [],
   "source": [
    "g = ig.Graph.Ring(n, directed=True)\n",
    "ig.plot(g, bbox=bbox)"
   ]
  },
  {
   "cell_type": "markdown",
   "metadata": {
    "slideshow": {
     "slide_type": "subslide"
    }
   },
   "source": [
    "### Importándolo de networkx"
   ]
  },
  {
   "cell_type": "code",
   "execution_count": null,
   "metadata": {
    "slideshow": {
     "slide_type": "fragment"
    }
   },
   "outputs": [],
   "source": [
    "g = ig.Graph.from_networkx(ciclo(n, create_using=nx.DiGraph))\n",
    "ig.plot(g, bbox=bbox) "
   ]
  },
  {
   "cell_type": "markdown",
   "metadata": {
    "slideshow": {
     "slide_type": "slide"
    }
   },
   "source": [
    "## iii. interoperabilidad\n",
    "\n",
    "¿Cómo \"mover\" un grafo a otro programa?\n",
    "\n",
    "- estructuras de datos estándar: GraphML, GML, et al\n",
    "\n",
    "- representaciones básicas: lista de aristas, matriz de adyacencia\n",
    "\n",
    "- para análisis de datos: tablas de aristas y (opcionalmente) nodos\n",
    "\n",
    "- para visualizar (más adelante):\n",
    "  - listas de nodos (nodes) y aristas (links) compatibles con [`d3`](https://d3js.org/)\n",
    "  - formato `dot` para [GraphViz](http://www.graphviz.org/)"
   ]
  },
  {
   "cell_type": "markdown",
   "metadata": {
    "slideshow": {
     "slide_type": "subslide"
    }
   },
   "source": [
    "### Formatos estándar - GraphML\n",
    "\n",
    "Ambos módulos ([networkx](https://networkx.org/documentation/stable/reference/readwrite/index.html) e [igraph](https://igraph.org/python/doc/tutorial/tutorial.html#igraph-and-the-outside-world) proveen bien documentados métodos para leer y escribir a formatos estándares variopintos. TL; DR:\n",
    "\n",
    "En `igraph`,\n",
    "- `h.write_FORMAT(path)` escribe el grafo `h` en formato `FORMAT` al archivo `path`.\n",
    "- `igraph.Graph.Read_FORMAT(path)` o simplemente `igraph.read(path)` carga el grafo definido en `path`, según `FORMAT` (primer sintaxis) o implícitamente (segunda sintaxis)\n",
    "\n",
    "En networkx,\n",
    "- `nx.read_FORMAT(path)` carga el grafo definido en path, según `FORMAT`\n",
    "- `nx.write_FORMAT(g, path)` escribe el grafo `g` en formato `FORMAT` al archivo `path`\n",
    "\n",
    "Googleando por ahí, _estimo_ que [GraphML](http://graphml.graphdrawing.org/) ([wikipedia](https://en.wikipedia.org/wiki/GraphML)) es el _más estándar de los estándares_."
   ]
  },
  {
   "cell_type": "code",
   "execution_count": null,
   "metadata": {
    "scrolled": false,
    "slideshow": {
     "slide_type": "subslide"
    }
   },
   "outputs": [],
   "source": [
    "nx.write_graphml(ciclo(n), \"nx-anillo.graphml\")\n",
    "ig.plot(ig.read(\"nx-anillo.graphml\"), bbox=(200, 200))"
   ]
  },
  {
   "cell_type": "markdown",
   "metadata": {
    "slideshow": {
     "slide_type": "notes"
    }
   },
   "source": [
    "Nótese que si creamos un ciclo dirigido, se mantiene la propiedad al leerlo con otra librería."
   ]
  },
  {
   "cell_type": "code",
   "execution_count": null,
   "metadata": {
    "slideshow": {
     "slide_type": "fragment"
    }
   },
   "outputs": [],
   "source": [
    "ig.Graph.Ring(n).write_graphml(\"ig-anillo.graphml\")\n",
    "ig.plot(ig.Graph.Read_GraphML(\"ig-anillo.graphml\"), bbox=(200, 200))"
   ]
  },
  {
   "cell_type": "markdown",
   "metadata": {
    "slideshow": {
     "slide_type": "subslide"
    }
   },
   "source": [
    "###  Matriz de adyacencia"
   ]
  },
  {
   "cell_type": "code",
   "execution_count": null,
   "metadata": {
    "slideshow": {
     "slide_type": "fragment"
    }
   },
   "outputs": [],
   "source": [
    "mpl.rcParams[\"figure.figsize\"] = 5, 5\n",
    "adj = nx.to_numpy_matrix(ciclo(12))\n",
    "nx.draw_circular(nx.from_numpy_matrix(adj))"
   ]
  },
  {
   "cell_type": "code",
   "execution_count": null,
   "metadata": {
    "slideshow": {
     "slide_type": "fragment"
    }
   },
   "outputs": [],
   "source": [
    "adj = ig.Graph.Ring(12).get_adjacency()  # adj es de tipo ig.Matrix, adj.data tiene la matriz \"pelada\"\n",
    "ig.plot(\n",
    "    # ig.ADJ_UNDIRECTED es una constante del módulo que indica el \"modo de creación\" del grafo. \n",
    "    ig.Graph.Adjacency(adj.data, mode=ig.ADJ_UNDIRECTED),\n",
    "    bbox=bbox,\n",
    ")"
   ]
  },
  {
   "cell_type": "markdown",
   "metadata": {
    "slideshow": {
     "slide_type": "subslide"
    }
   },
   "source": [
    "### Lista de aristas"
   ]
  },
  {
   "cell_type": "code",
   "execution_count": null,
   "metadata": {
    "slideshow": {
     "slide_type": "fragment"
    }
   },
   "outputs": [],
   "source": [
    "el = nx.to_edgelist(ciclo(8))\n",
    "nx.draw_circular(nx.from_edgelist(el), with_labels=True)"
   ]
  },
  {
   "cell_type": "code",
   "execution_count": null,
   "metadata": {
    "slideshow": {
     "slide_type": "fragment"
    }
   },
   "outputs": [],
   "source": [
    "el = ig.Graph.Ring(8).get_edgelist()\n",
    "ig.plot(ig.Graph(el), bbox=bbox)"
   ]
  },
  {
   "cell_type": "markdown",
   "metadata": {
    "slideshow": {
     "slide_type": "subslide"
    }
   },
   "source": [
    "### Tablas de aristas y nodos\n",
    "\n",
    "Lo único difícil sobre como crear un grafo a partir de dos tablas con información de nodos y aristas, es construirlas; importarlas a `nx` o `ig` es trivial.\n",
    "\n",
    "Vamos a construir el grafo de tráfico aéreo nacional, a partir de un dataset de aeropuertos - los nodos - y rutas aéreas - las aristas. Para ahondar en los detalles de la construcción de los prolijos CSVs provistos - y de paso repasar manejo básico de `pandas` -, en el [Anexo 1](notebooks/2. Anexo Clase 1.ipynb) está el detalle."
   ]
  },
  {
   "cell_type": "code",
   "execution_count": null,
   "metadata": {
    "slideshow": {
     "slide_type": "subslide"
    }
   },
   "outputs": [],
   "source": [
    "# Revisen que estas rutas, relativas a su directorio de ejecución - en este caso, `notebooks/` - sean las corectas.\n",
    "nodes = pd.read_csv(\"../data/nodos-aeropuertos.csv\")\n",
    "edges = pd.read_csv(\"../data/aristas-rutas-aereas.csv\") "
   ]
  },
  {
   "cell_type": "code",
   "execution_count": null,
   "metadata": {},
   "outputs": [],
   "source": [
    "import os; os.getcwd()"
   ]
  },
  {
   "cell_type": "code",
   "execution_count": null,
   "metadata": {
    "slideshow": {
     "slide_type": "fragment"
    }
   },
   "outputs": [],
   "source": [
    "nodes.head(3)"
   ]
  },
  {
   "cell_type": "code",
   "execution_count": null,
   "metadata": {
    "slideshow": {
     "slide_type": "fragment"
    }
   },
   "outputs": [],
   "source": [
    "edges.head(3)"
   ]
  },
  {
   "cell_type": "code",
   "execution_count": null,
   "metadata": {
    "slideshow": {
     "slide_type": "fragment"
    }
   },
   "outputs": [],
   "source": [
    "g = nx.from_pandas_edgelist(\n",
    "    edges,  # dataframe con aristas\n",
    "    source=\"origen\",\n",
    "    target=\"destino\",\n",
    "    edge_attr=True,  # Transforma en atributos todo el resto de las columnas\n",
    "    create_using=nx.DiGraph  # Este será un grafo dirigido\n",
    ")"
   ]
  },
  {
   "cell_type": "markdown",
   "metadata": {
    "slideshow": {
     "slide_type": "subslide"
    }
   },
   "source": [
    "¿Estarán incluidos todos los nodos? "
   ]
  },
  {
   "cell_type": "code",
   "execution_count": null,
   "metadata": {
    "slideshow": {
     "slide_type": "fragment"
    }
   },
   "outputs": [],
   "source": [
    "len(g.nodes), len(nodes)"
   ]
  },
  {
   "cell_type": "markdown",
   "metadata": {
    "slideshow": {
     "slide_type": "fragment"
    }
   },
   "source": [
    "¡Evidentemente no! Completemos el gráfico, agregando los nodos que no existen, y seteando atributos para todos. Esto se puede hacer \"de una sola pasada\", usando `g.add_nodes_from`:"
   ]
  },
  {
   "cell_type": "code",
   "execution_count": null,
   "metadata": {
    "slideshow": {
     "slide_type": "fragment"
    }
   },
   "outputs": [],
   "source": [
    "node_attributes = nodes.set_index(\"oaci\").to_dict(\"index\")"
   ]
  },
  {
   "cell_type": "code",
   "execution_count": null,
   "metadata": {
    "slideshow": {
     "slide_type": "fragment"
    },
    "tags": []
   },
   "outputs": [],
   "source": [
    "node_attributes[\"SAEZ\"]"
   ]
  },
  {
   "cell_type": "markdown",
   "metadata": {
    "slideshow": {
     "slide_type": "notes"
    },
    "tags": []
   },
   "source": [
    "`g.add_nodes_from` espera _tuplas_ de la forma (nodo, atributos), así que llamarla con la vista `dict.items()` y no el `dict` \"crudo\""
   ]
  },
  {
   "cell_type": "code",
   "execution_count": null,
   "metadata": {
    "slideshow": {
     "slide_type": "fragment"
    },
    "tags": []
   },
   "outputs": [],
   "source": [
    "g.add_nodes_from(node_attributes.items())"
   ]
  },
  {
   "cell_type": "markdown",
   "metadata": {
    "slideshow": {
     "slide_type": "subslide"
    }
   },
   "source": [
    "¡Intentemos graficarlo!"
   ]
  },
  {
   "cell_type": "code",
   "execution_count": null,
   "metadata": {
    "slideshow": {
     "slide_type": "fragment"
    }
   },
   "outputs": [],
   "source": [
    "fig, ax = plt.subplots(figsize=(18, 12))\n",
    "nx.draw_networkx(g)"
   ]
  },
  {
   "cell_type": "markdown",
   "metadata": {
    "slideshow": {
     "slide_type": "notes"
    }
   },
   "source": [
    "Está muy atestada... Tal vez limitando la cantidad de aristas en función de su peso, y excluyendo a los nodos de grado cero, mejora:"
   ]
  },
  {
   "cell_type": "code",
   "execution_count": null,
   "metadata": {
    "slideshow": {
     "slide_type": "subslide"
    }
   },
   "outputs": [],
   "source": [
    "edges.vuelos.describe()"
   ]
  },
  {
   "cell_type": "markdown",
   "metadata": {
    "slideshow": {
     "slide_type": "fragment"
    }
   },
   "source": [
    "Conservemos las rutas en el cuartil superior de vuelos. Esta vez, agregamos los atributos de nodos usando `nx.set_node_attributes`, que sólo agregará atributos para los nodos preexistentes:"
   ]
  },
  {
   "cell_type": "code",
   "execution_count": null,
   "metadata": {
    "slideshow": {
     "slide_type": "fragment"
    }
   },
   "outputs": [],
   "source": [
    "g = nx.from_pandas_edgelist(edges[edges.vuelos >= 10], \"origen\", \"destino\", \"vuelos\", nx.DiGraph)\n",
    "nx.set_node_attributes(g, node_attributes)"
   ]
  },
  {
   "cell_type": "code",
   "execution_count": null,
   "metadata": {
    "slideshow": {
     "slide_type": "subslide"
    }
   },
   "outputs": [],
   "source": [
    "fig, ax = plt.subplots(figsize=(18, 12))\n",
    "nx.draw_networkx(g)"
   ]
  },
  {
   "cell_type": "markdown",
   "metadata": {
    "slideshow": {
     "slide_type": "subslide"
    }
   },
   "source": [
    "Sigue sin ser una visualización muy satisfactoria. ¿Por qué no usar latitud y longitud como posición en el `layout`?"
   ]
  },
  {
   "cell_type": "code",
   "execution_count": null,
   "metadata": {
    "slideshow": {
     "slide_type": "fragment"
    }
   },
   "outputs": [],
   "source": [
    "pos = {k: (v[\"longitud\"], v[\"latitud\"]) for k, v in node_attributes.items()}"
   ]
  },
  {
   "cell_type": "markdown",
   "metadata": {
    "slideshow": {
     "slide_type": "fragment"
    }
   },
   "source": [
    " De paso, estilizamos según algunos atributos"
   ]
  },
  {
   "cell_type": "code",
   "execution_count": null,
   "metadata": {
    "slideshow": {
     "slide_type": "fragment"
    }
   },
   "outputs": [],
   "source": [
    "visual = {}\n",
    "visual[\"font_size\"] = 10\n",
    "visual[\"alpha\"] = 0.5\n",
    "visual[\"edge_color\"] =\"gray\"\n",
    "grados = nx.degree(g)\n",
    "visual[\"node_size\"] = [5 * grados[nodo] for nodo in g]\n",
    "\n",
    "visual[\"node_color\"] = list(nx.get_node_attributes(g, \"elev\").values())\n",
    "visual[\"cmap\"] = plt.cm.autumn  # c(olor) map para los nodos\n",
    "visual[\"labels\"] = {\n",
    "    nodo: denom.replace(\" / \", \"\\n\") if grados[nodo] >= 5 else ''\n",
    "    for nodo, denom in g.nodes.data(\"denominacion\")\n",
    "}\n",
    "vuelos = nx.get_edge_attributes(g, \"vuelos\")\n",
    "visual[\"width\"] = [(0.025 * vuelos[arista])**0.5 for arista in g.edges()]"
   ]
  },
  {
   "cell_type": "code",
   "execution_count": null,
   "metadata": {
    "slideshow": {
     "slide_type": "subslide"
    }
   },
   "outputs": [],
   "source": [
    "# pos = {id_nodo: (lon, lat) p/c id_nodo en nodos}\n",
    "fig, ax = plt.subplots(figsize=(20, 14))\n",
    "nx.draw_networkx(g, pos=pos, ax=ax, **visual)"
   ]
  },
  {
   "cell_type": "markdown",
   "metadata": {
    "slideshow": {
     "slide_type": "subslide"
    }
   },
   "source": [
    "**Ejercicio**: Cambie `node_size` para que la escala refleje la suma de los vuelos de todas las aristas incidentes. ¿Cómo cambia el gráfico? ¿Qué le dice ello?\n",
    "\n",
    "**Desafío**: ¿Puede recrear este mapa - o sus elementos principales - con `igraph`?\n",
    "\n",
    "OK, la forma es mas \"argentinosa\", pero está lejos de ser un mapa. ¡Tratemos de hacerlo un mapa!"
   ]
  },
  {
   "cell_type": "markdown",
   "metadata": {
    "slideshow": {
     "slide_type": "slide"
    }
   },
   "source": [
    "# iv. grafos geográficos\n",
    "\n",
    "## Geopandas y CartoPy\n",
    "Hay algunas herramientas bastante \"amistosas\" para dibujar elementos geográficos en Python, en particular,\n",
    "- `cartopy` extiende `matplotlib` con un tipo de eje (`ax`) especial, `GeoAxes`, que simplifica enormemente el ploteo, y\n",
    "- `geopandas`, que extiende `pandas` con un `GeoDataFrame` para albergar formas (\"shapes\") como puntos, líneas y polígonos.\n",
    "\n",
    "**Sobre la instalación**: Las dependencias de ambas librerías (como el plotting de `igraph` con `pycairo` son _complejas_ de instalar \"a mano\", y aún en Google Colab pueden dar problemas. La recomendación oficial de \"la cátedra\", es hacerlo con `conda` según el [ambiente de referencia](https://github.com/fcen-amateur/aa-en-grafos/blob/main/environment.yml) provisto.\n",
    "\n",
    "Como siempre, la documentación es su amiga: [GeoPandas](https://geopandas.org/index.html), [CartoPy](https://scitools.org.uk/cartopy/docs/latest/)"
   ]
  },
  {
   "cell_type": "code",
   "execution_count": null,
   "metadata": {
    "slideshow": {
     "slide_type": "subslide"
    }
   },
   "outputs": [],
   "source": [
    "import geopandas as gpd\n",
    "import cartopy.feature as cfeature\n",
    "import cartopy.crs as ccrs"
   ]
  },
  {
   "cell_type": "code",
   "execution_count": null,
   "metadata": {
    "slideshow": {
     "slide_type": "fragment"
    }
   },
   "outputs": [],
   "source": [
    "ARGENTINA = (-76, -50, -55, -22)  # \"Cajita\" que contiene el territorio continental nacional\n",
    "provincias = gpd.read_file(\"../data/Provincia/ign_provincia.shp\")"
   ]
  },
  {
   "cell_type": "code",
   "execution_count": null,
   "metadata": {
    "slideshow": {
     "slide_type": "fragment"
    }
   },
   "outputs": [],
   "source": [
    "crs = ccrs.PlateCarree()\n",
    "fig, ax = plt.subplots(\n",
    "    1, 1, figsize=(24, 30),\n",
    "    subplot_kw=dict(projection=crs)\n",
    ")\n",
    "ax.add_feature(cfeature.LAND)\n",
    "ax.add_feature(cfeature.OCEAN)\n",
    "ax.add_feature(cfeature.COASTLINE)\n",
    "ax.add_feature(cfeature.BORDERS, linestyle=':')\n",
    "ax.add_feature(cfeature.LAKES, alpha=0.5)\n",
    "ax.add_geometries(provincias['geometry'], facecolor=\"none\", linestyle=\"dotted\", crs=crs)\n",
    "ax.set_extent(ARGENTINA)\n",
    "# ax.set_global() da la extensión mundial\n",
    "nx.draw_networkx(g, pos=pos, ax=ax, **visual)\n",
    "plt.show()"
   ]
  },
  {
   "cell_type": "markdown",
   "metadata": {
    "slideshow": {
     "slide_type": "subslide"
    }
   },
   "source": [
    "### Listado de nodos y aristas\n",
    "\n",
    "[D3](https://d3js.org/) (Data-Driven Documents) es una librería de JavaScript para realizar visualizaciones de lo más bellas. Está escrita en JavaScript, así que es HTML, sumamente flexible y produce documentos realmente bellísimos.\n",
    "\n",
    "De les mismes creadores, [Observable](https://observablehq.com/) ofrece notebooks con JavaScript y D3 sencillos de usar.\n",
    "\n",
    "`d3` espera un objeto JSON (un diccionario, a fines prácticos) con dos claves, `nodes` y `links`, donde el valor de cada una es una lista con la información de vértices y aristas, respectivamente.\n",
    "\n",
    "- `nx.node_link_data` exporta el grafo en un [formato JSON](https://networkx.org/documentation/stable/reference/readwrite/json_graph.html) compatible con D3, y\n",
    "- y `nx.node_link_graph` crea un grafo de `nx` a partir de dicho formato."
   ]
  },
  {
   "cell_type": "code",
   "execution_count": null,
   "metadata": {
    "slideshow": {
     "slide_type": "subslide"
    }
   },
   "outputs": [],
   "source": [
    "import json\n",
    "h = ciclo(3)\n",
    "archivo = \"../data/ciclo.json\"\n",
    "data = nx.node_link_data(h)\n",
    "print(data)"
   ]
  },
  {
   "cell_type": "code",
   "execution_count": null,
   "metadata": {
    "slideshow": {
     "slide_type": "fragment"
    }
   },
   "outputs": [],
   "source": [
    "with open(archivo, \"w\") as f:  # Abro `archivo` en modo escritura - w(rite)\n",
    "    json.dump(data, f)\n",
    "with open(archivo, \"r\") as f:  # Abro `archivo en modo lectura - r(ead)\n",
    "    data = json.load(f)\n",
    "    nx.draw_circular(nx.node_link_graph(data))"
   ]
  },
  {
   "cell_type": "code",
   "execution_count": null,
   "metadata": {
    "slideshow": {
     "slide_type": "subslide"
    }
   },
   "outputs": [],
   "source": [
    "json.dump(nx.node_link_data(g), open(\"../data/grafo-aereo.json\", \"w\"))"
   ]
  },
  {
   "cell_type": "markdown",
   "metadata": {
    "slideshow": {
     "slide_type": "fragment"
    }
   },
   "source": [
    "**Ejercicio**: Pasee por https://observablehq.com, o vaya directo a [esta](https://observablehq.com/@d3/force-directed-graph) visualización del elenco de *Les Miserables*, adjunte al archivo `grafo-aereo.json`, y cambie el código de la visualización para que lo utilice. ¿Puede reproducir los atributos visuales que usamos antes?"
   ]
  },
  {
   "cell_type": "markdown",
   "metadata": {
    "slideshow": {
     "slide_type": "slide"
    }
   },
   "source": [
    "# Fin\n",
    "\n",
    "Gracias :)\n",
    "\n",
    "[`aag`](https://github.com/fcen-amateur/aa-en-grafos), 2021, ningún derecho reservado."
   ]
  }
 ],
 "metadata": {
  "celltoolbar": "Slideshow",
  "kernelspec": {
   "display_name": "Python 3.8 (aag2-conda)",
   "language": "python",
   "name": "python3"
  },
  "language_info": {
   "codemirror_mode": {
    "name": "ipython",
    "version": 3
   },
   "file_extension": ".py",
   "mimetype": "text/x-python",
   "name": "python",
   "nbconvert_exporter": "python",
   "pygments_lexer": "ipython3",
   "version": "3.8.10"
  },
  "rise": {
   "scroll": true,
   "theme": "serif"
  }
 },
 "nbformat": 4,
 "nbformat_minor": 5
}
