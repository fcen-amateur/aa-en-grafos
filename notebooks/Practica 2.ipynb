{
 "cells": [
  {
   "cell_type": "markdown",
   "metadata": {},
   "source": [
    "# Unidad 2. Medidas en grafos\n",
    "Camino mínimos, camino al azar, centralidad, importancia de nodos y aristas.\n",
    "Modularidad. Grafos al azar. Ejercitación: Cálculo de caminos mínimos para distintos modelos de grafos aleatorios."
   ]
  },
  {
   "cell_type": "markdown",
   "metadata": {},
   "source": [
    "https://en.wikipedia.org/wiki/Erd%C5%91s_number\n",
    "https://en.wikipedia.org/wiki/Six_Degrees_of_Kevin_Bacon\n",
    "https://en.wikipedia.org/wiki/Erd%C5%91s%E2%80%93Bacon_number\n",
    "\n",
    "https://oracleofbacon.org/how.php - BFS search\n",
    "https://en.wikipedia.org/wiki/Breadth-first_search\n",
    "\n",
    "http://networkrepository.com/IMDB.php"
   ]
  },
  {
   "cell_type": "code",
   "execution_count": null,
   "metadata": {},
   "outputs": [],
   "source": [
    "import pandas as pd\n",
    "import networkx as nx\n",
    "import os\n",
    "# CAMBIEN LA SIGUIENTE LÍNEA A LA RAÍZ DEL REPOSITORIO EN SU PC\n",
    "os.chdir(\"/home/gonzalo/maestria/aag/\")"
   ]
  },
  {
   "cell_type": "code",
   "execution_count": null,
   "metadata": {},
   "outputs": [],
   "source": [
    "roles = pd.read_csv(\"data/archive/IMDb title_principals.csv\")\n",
    "actores = pd.read_csv(\"data/archive/IMDb names.csv\")#, nrows=10000)\n",
    "actores[[\"id\", \"nombre\"]] = actores[[\"imdb_name_id\", \"name\"]]\n",
    "actores[\"bipartite\"] = 0\n",
    "films = pd.read_csv(\"data/archive/IMDb movies.csv\")#, nrows=10000)\n",
    "films[[\"id\", \"nombre\"]] = films[[\"imdb_title_id\", \"original_title\"]]\n",
    "films[\"bipartite\"] = 1"
   ]
  },
  {
   "cell_type": "code",
   "execution_count": null,
   "metadata": {},
   "outputs": [],
   "source": [
    "roles.shape, actores.shape, films.shape"
   ]
  },
  {
   "cell_type": "code",
   "execution_count": null,
   "metadata": {},
   "outputs": [],
   "source": [
    "g = nx.from_pandas_edgelist(roles, \"imdb_title_id\", \"imdb_name_id\")"
   ]
  },
  {
   "cell_type": "markdown",
   "metadata": {},
   "source": [
    "https://networkx.org/documentation/stable/reference/algorithms/bipartite.html"
   ]
  },
  {
   "cell_type": "code",
   "execution_count": null,
   "metadata": {},
   "outputs": [],
   "source": [
    "nx.set_node_attributes(g, actores[[\"id\", \"nombre\", \"bipartite\"]].set_index(\"id\").to_dict(\"index\"))"
   ]
  },
  {
   "cell_type": "code",
   "execution_count": null,
   "metadata": {},
   "outputs": [],
   "source": [
    "nx.set_node_attributes(g, films[[\"id\", \"nombre\", \"bipartite\"]].set_index(\"id\").to_dict(\"index\"))"
   ]
  },
  {
   "cell_type": "code",
   "execution_count": null,
   "metadata": {},
   "outputs": [],
   "source": [
    "colaboraciones = nx.bipartite.project(g, actores.id.tolist())"
   ]
  },
  {
   "cell_type": "code",
   "execution_count": null,
   "metadata": {},
   "outputs": [],
   "source": [
    "len(colaboraciones.nodes), len(colaboraciones.edges)"
   ]
  },
  {
   "cell_type": "code",
   "execution_count": null,
   "metadata": {},
   "outputs": [],
   "source": [
    "DARIN = \"nm0201857\"\n",
    "BACON = \"nm0000102\""
   ]
  },
  {
   "cell_type": "code",
   "execution_count": null,
   "metadata": {},
   "outputs": [],
   "source": [
    "[g.nodes[x][\"nombre\"] for x in nx.shortest_path(colaboraciones, DARIN, BACON)]"
   ]
  },
  {
   "cell_type": "code",
   "execution_count": null,
   "metadata": {},
   "outputs": [],
   "source": [
    "[g.nodes[x][\"nombre\"] for x in nx.shortest_path(g, DARIN, BACON)]"
   ]
  },
  {
   "cell_type": "code",
   "execution_count": null,
   "metadata": {},
   "outputs": [],
   "source": [
    "# pd.DataFrame.loc para encontrar filas por indice\n",
    "actores.set_index(\"imdb_name_id\").loc[['nm0000102', 'nm0000210', 'nm0000849', 'nm0201857']]"
   ]
  },
  {
   "cell_type": "code",
   "execution_count": null,
   "metadata": {},
   "outputs": [],
   "source": [
    "films[films.original_title.str.contains(\"ordillera\")]"
   ]
  },
  {
   "cell_type": "code",
   "execution_count": null,
   "metadata": {},
   "outputs": [],
   "source": [
    "roles[roles.imdb_title_id == \"tt6047298\"].merge(actores, on=\"imdb_name_id\")"
   ]
  },
  {
   "cell_type": "code",
   "execution_count": null,
   "metadata": {},
   "outputs": [],
   "source": [
    "# Hay a lo sumo 10 actores por pelicula, así uqe el bacon numbr que calculamos es a lo sumo el del oracle que tiene todos lso actores\n",
    "roles.groupby(\"imdb_title_id\").apply(len).describe()"
   ]
  },
  {
   "cell_type": "code",
   "execution_count": null,
   "metadata": {},
   "outputs": [],
   "source": [
    "# Buscar fils o actores por nombre parcial\n",
    "films[films.title.str.contains(\"Summit\")]\n",
    "actores[actores.name.str.contains(\"Ricardo Darín\")]"
   ]
  },
  {
   "cell_type": "code",
   "execution_count": null,
   "metadata": {},
   "outputs": [],
   "source": []
  }
 ],
 "metadata": {
  "kernelspec": {
   "display_name": "Python 3.8 (aag2-conda)",
   "language": "python",
   "name": "python3"
  },
  "language_info": {
   "codemirror_mode": {
    "name": "ipython",
    "version": 3
   },
   "file_extension": ".py",
   "mimetype": "text/x-python",
   "name": "python",
   "nbconvert_exporter": "python",
   "pygments_lexer": "ipython3",
   "version": "3.8.10"
  }
 },
 "nbformat": 4,
 "nbformat_minor": 4
}
